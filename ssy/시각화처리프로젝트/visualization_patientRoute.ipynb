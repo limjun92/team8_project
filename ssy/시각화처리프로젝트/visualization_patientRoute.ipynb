{
 "cells": [
  {
   "cell_type": "code",
   "execution_count": 1,
   "metadata": {},
   "outputs": [],
   "source": [
    "import pandas as pd\n",
    "import matplotlib.pyplot as plt\n",
    "import numpy as np"
   ]
  },
  {
   "cell_type": "code",
   "execution_count": 2,
   "metadata": {},
   "outputs": [],
   "source": [
    "from matplotlib import font_manager, rc\n",
    "font_name = font_manager.FontProperties(fname=\"c:/Windows/Fonts/malgun.ttf\").get_name()\n",
    "rc('font', family=font_name)"
   ]
  },
  {
   "cell_type": "code",
   "execution_count": 3,
   "metadata": {},
   "outputs": [],
   "source": [
    "df_patientRoute = pd.read_csv('../dataset/PatientRoute.csv')\n",
    "pt = pd.pivot_table(df_patientRoute, index=['date','type'],values='patient_id', aggfunc='count')\n",
    "\n",
    "leisure = []\n",
    "park = []\n",
    "gym=[]\n",
    "\n",
    "for idx, cnt in pt.iterrows():\n",
    "    \n",
    "    if idx[1] in ['beauty_salon', 'pc_cafe', 'cafe', 'bar', 'karaoke']:\n",
    "        leisure.append(cnt[0])\n",
    "        park.append(0)\n",
    "        gym.append(0)\n",
    "    \n",
    "    elif idx[1] in ['park']:\n",
    "        leisure.append(0)\n",
    "        park.append(cnt[0])\n",
    "        gym.append(0)\n",
    "        \n",
    "    elif idx[1] in ['gym']:\n",
    "        leisure.append(0)\n",
    "        gym.append(cnt[0])\n",
    "        park.append(0)\n",
    "        \n",
    "    else:\n",
    "        leisure.append(0)\n",
    "        gym.append(0)\n",
    "        park.append(0)\n",
    "        \n",
    "pt['leisure'] = leisure\n",
    "pt['park'] = park\n",
    "pt['gym'] = gym\n",
    "pt['total'] = pt.leisure + pt.park + pt.gym\n",
    "\n",
    "pt2 = pd.pivot_table(pt, index=['date'], values=['leisure','park','gym','total'], aggfunc='sum')"
   ]
  },
  {
   "cell_type": "code",
   "execution_count": 4,
   "metadata": {},
   "outputs": [
    {
     "data": {
      "text/html": [
       "<div>\n",
       "<style scoped>\n",
       "    .dataframe tbody tr th:only-of-type {\n",
       "        vertical-align: middle;\n",
       "    }\n",
       "\n",
       "    .dataframe tbody tr th {\n",
       "        vertical-align: top;\n",
       "    }\n",
       "\n",
       "    .dataframe thead th {\n",
       "        text-align: right;\n",
       "    }\n",
       "</style>\n",
       "<table border=\"1\" class=\"dataframe\">\n",
       "  <thead>\n",
       "    <tr style=\"text-align: right;\">\n",
       "      <th></th>\n",
       "      <th>gym</th>\n",
       "      <th>leisure</th>\n",
       "      <th>park</th>\n",
       "      <th>total</th>\n",
       "    </tr>\n",
       "  </thead>\n",
       "  <tbody>\n",
       "    <tr>\n",
       "      <th>1월</th>\n",
       "      <td>0</td>\n",
       "      <td>2</td>\n",
       "      <td>0</td>\n",
       "      <td>2</td>\n",
       "    </tr>\n",
       "    <tr>\n",
       "      <th>2월</th>\n",
       "      <td>18</td>\n",
       "      <td>112</td>\n",
       "      <td>6</td>\n",
       "      <td>136</td>\n",
       "    </tr>\n",
       "    <tr>\n",
       "      <th>3월</th>\n",
       "      <td>2</td>\n",
       "      <td>70</td>\n",
       "      <td>3</td>\n",
       "      <td>75</td>\n",
       "    </tr>\n",
       "    <tr>\n",
       "      <th>4월</th>\n",
       "      <td>0</td>\n",
       "      <td>43</td>\n",
       "      <td>0</td>\n",
       "      <td>43</td>\n",
       "    </tr>\n",
       "    <tr>\n",
       "      <th>5월</th>\n",
       "      <td>5</td>\n",
       "      <td>60</td>\n",
       "      <td>1</td>\n",
       "      <td>66</td>\n",
       "    </tr>\n",
       "    <tr>\n",
       "      <th>6월</th>\n",
       "      <td>0</td>\n",
       "      <td>0</td>\n",
       "      <td>0</td>\n",
       "      <td>0</td>\n",
       "    </tr>\n",
       "  </tbody>\n",
       "</table>\n",
       "</div>"
      ],
      "text/plain": [
       "    gym  leisure  park  total\n",
       "1월    0        2     0      2\n",
       "2월   18      112     6    136\n",
       "3월    2       70     3     75\n",
       "4월    0       43     0     43\n",
       "5월    5       60     1     66\n",
       "6월    0        0     0      0"
      ]
     },
     "execution_count": 4,
     "metadata": {},
     "output_type": "execute_result"
    }
   ],
   "source": [
    "pt2.index = pd.to_datetime(pt2.index)\n",
    "route_bymonth = pt2.resample('M').sum()\n",
    "# route_bymonth['date'] = route_bymonth.index\n",
    "route_bymonth.index = ['1월','2월','3월','4월','5월','6월']\n",
    "route_bymonth"
   ]
  },
  {
   "cell_type": "code",
   "execution_count": 5,
   "metadata": {},
   "outputs": [],
   "source": [
    "df = route_bymonth.copy()\n",
    "df['leisure'] = np.round(df['leisure']/df['total']*100)\n",
    "df['gym_park'] = np.round((df['gym'] + df['park']) / df['total']*100)\n",
    "df = df['gym_park'][:-1]"
   ]
  },
  {
   "cell_type": "code",
   "execution_count": 6,
   "metadata": {
    "scrolled": true
   },
   "outputs": [
    {
     "data": {
      "image/png": "[encoded data removed]",
      "text/plain": [
       "<Figure size 432x288 with 1 Axes>"
      ]
     },
     "metadata": {
      "needs_background": "light"
     },
     "output_type": "display_data"
    }
   ],
   "source": [
    "ax = route_bymonth[['leisure','park','gym']][:-1].plot(kind='bar',stacked=True)\n",
    "plt.xticks(rotation=0)\n",
    "plt.title('월별 확진자 이동동선 중 여가생활 등장 횟수')\n",
    "plt.ylabel('등장 횟수(번)')\n",
    "plt.ylim(0,150)\n",
    "cnt=0\n",
    "for p in ax.patches[-5:]: \n",
    "    width = p.get_width()\n",
    "    height = p.get_height()\n",
    "    x, y = p.get_xy() \n",
    "    if df[cnt] != 0:\n",
    "        ax.annotate(f'{df[cnt]}%',( x+ width/2, y + height+2), ha='center', fontsize=10)\n",
    "    cnt+=1\n",
    "plt.show()"
   ]
  }
 ],
 "metadata": {
  "kernelspec": {
   "display_name": "Python 3",
   "language": "python",
   "name": "python3"
  },
  "language_info": {
   "codemirror_mode": {
    "name": "ipython",
    "version": 3
   },
   "file_extension": ".py",
   "mimetype": "text/x-python",
   "name": "python",
   "nbconvert_exporter": "python",
   "pygments_lexer": "ipython3",
   "version": "3.7.6"
  }
 },
 "nbformat": 4,
 "nbformat_minor": 4
}
